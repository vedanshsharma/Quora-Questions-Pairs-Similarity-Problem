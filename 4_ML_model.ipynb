{
  "nbformat": 4,
  "nbformat_minor": 0,
  "metadata": {
    "colab": {
      "name": "4.ML_model.ipynb",
      "provenance": []
    },
    "kernelspec": {
      "name": "python3",
      "display_name": "Python 3"
    }
  },
  "cells": [
    {
      "cell_type": "code",
      "metadata": {
        "id": "P2g93IWlBB4G",
        "colab_type": "code",
        "colab": {}
      },
      "source": [
        "import pandas as pd\n",
        "import matplotlib.pyplot as plt\n",
        "import re\n",
        "import time\n",
        "import warnings\n",
        "import sqlite3\n",
        "from sqlalchemy import create_engine # database connection\n",
        "import csv\n",
        "import os\n",
        "warnings.filterwarnings(\"ignore\")\n",
        "import datetime as dt\n",
        "import numpy as np\n",
        "from nltk.corpus import stopwords\n",
        "from sklearn.decomposition import TruncatedSVD\n",
        "from sklearn.preprocessing import normalize\n",
        "from sklearn.feature_extraction.text import CountVectorizer\n",
        "from sklearn.manifold import TSNE\n",
        "import seaborn as sns\n",
        "from sklearn.neighbors import KNeighborsClassifier\n",
        "from sklearn.metrics import confusion_matrix\n",
        "from sklearn.metrics.classification import accuracy_score, log_loss\n",
        "from sklearn.feature_extraction.text import TfidfVectorizer\n",
        "from collections import Counter\n",
        "from scipy.sparse import hstack\n",
        "from sklearn.multiclass import OneVsRestClassifier\n",
        "from sklearn.svm import SVC\n",
        "from sklearn.model_selection import StratifiedKFold \n",
        "from collections import Counter, defaultdict\n",
        "from sklearn.calibration import CalibratedClassifierCV\n",
        "from sklearn.naive_bayes import MultinomialNB\n",
        "from sklearn.naive_bayes import GaussianNB\n",
        "from sklearn.model_selection import train_test_split\n",
        "from sklearn.model_selection import GridSearchCV\n",
        "import math\n",
        "from sklearn.metrics import normalized_mutual_info_score\n",
        "from sklearn.ensemble import RandomForestClassifier\n",
        "\n",
        "\n",
        "\n",
        "from sklearn.model_selection import cross_val_score\n",
        "from sklearn.linear_model import SGDClassifier\n",
        "from mlxtend.classifier import StackingClassifier\n",
        "\n",
        "from sklearn import model_selection\n",
        "from sklearn.linear_model import LogisticRegression\n",
        "from sklearn.metrics import precision_recall_curve, auc, roc_curve"
      ],
      "execution_count": 0,
      "outputs": []
    },
    {
      "cell_type": "markdown",
      "metadata": {
        "id": "rAED_U7EV9IU",
        "colab_type": "text"
      },
      "source": [
        "#Machine Learning Models"
      ]
    },
    {
      "cell_type": "code",
      "metadata": {
        "id": "Cimeh2LpBDjd",
        "colab_type": "code",
        "colab": {}
      },
      "source": [
        "#Creating db file from csv\n",
        "disk_engine = create_engine('sqlite:///train.db')  \n",
        "\n",
        "\n",
        "df= pd.read_csv(\"/content/drive/My Drive/Quora/final_features.csv\")\n",
        "df[0:100000].to_sql('data', disk_engine, if_exists='append')"
      ],
      "execution_count": 0,
      "outputs": []
    },
    {
      "cell_type": "code",
      "metadata": {
        "id": "Gidu0b5yJPTj",
        "colab_type": "code",
        "colab": {}
      },
      "source": [
        "#http://www.sqlitetutorial.net/sqlite-python/create-tables/\n",
        "def create_connection(db_file):\n",
        "    \"\"\"create a database connection to the SQLite database\n",
        "        specified by db_file\n",
        "    :param db_file: database file\n",
        "    :return: Connection object or None\n",
        "    \"\"\"\n",
        "    try:\n",
        "        conn = sqlite3.connect(db_file)\n",
        "        return conn\n",
        "    except Error as e:\n",
        "        print(e)\n",
        " \n",
        "    return None\n",
        "\n",
        "\n",
        "def checkTableExists(dbcon):\n",
        "    cursr = dbcon.cursor()\n",
        "    str = \"select name from sqlite_master where type='table'\"\n",
        "    table_names = cursr.execute(str)\n",
        "    print(\"Tables in the databse:\")\n",
        "    tables =table_names.fetchall() \n",
        "    print(tables[0][0])\n",
        "    return(len(tables))\n",
        "\n",
        "\n",
        "\n",
        "\n"
      ],
      "execution_count": 0,
      "outputs": []
    },
    {
      "cell_type": "code",
      "metadata": {
        "id": "EkE5AsBqR9lN",
        "colab_type": "code",
        "outputId": "ec829ceb-b10c-4787-e19f-74509c16d248",
        "colab": {
          "base_uri": "https://localhost:8080/",
          "height": 51
        }
      },
      "source": [
        "read_db = 'train.db'\n",
        "conn_r = create_connection(read_db)\n",
        "checkTableExists(conn_r)\n",
        "conn_r.close()"
      ],
      "execution_count": 0,
      "outputs": [
        {
          "output_type": "stream",
          "text": [
            "Tables in the databse:\n",
            "data\n"
          ],
          "name": "stdout"
        }
      ]
    },
    {
      "cell_type": "code",
      "metadata": {
        "id": "8FpnQ18Oi9Eo",
        "colab_type": "code",
        "colab": {}
      },
      "source": [
        "conn_r = create_connection(read_db)\n",
        "data = pd.read_sql_query(\"SELECT * From data ORDER BY RANDOM() LIMIT 10001;\", conn_r)\n",
        "conn_r.commit()\n",
        "conn_r.close()"
      ],
      "execution_count": 0,
      "outputs": []
    },
    {
      "cell_type": "code",
      "metadata": {
        "id": "rs2X2zPCm-BF",
        "colab_type": "code",
        "colab": {}
      },
      "source": [
        "# remove the first row \n",
        "data.drop(data.index[0], inplace=True)\n",
        "y_true = data['is_duplicate']\n",
        "data.drop(['Unnamed: 0', 'id','index','is_duplicate'], axis=1, inplace=True)"
      ],
      "execution_count": 0,
      "outputs": []
    },
    {
      "cell_type": "code",
      "metadata": {
        "id": "WQ0NnyDQnG-Q",
        "colab_type": "code",
        "outputId": "8df60ac3-b3b0-481f-916c-5ae82a82318d",
        "colab": {
          "base_uri": "https://localhost:8080/",
          "height": 270
        }
      },
      "source": [
        "data.head()"
      ],
      "execution_count": 0,
      "outputs": [
        {
          "output_type": "execute_result",
          "data": {
            "text/html": [
              "<div>\n",
              "<style scoped>\n",
              "    .dataframe tbody tr th:only-of-type {\n",
              "        vertical-align: middle;\n",
              "    }\n",
              "\n",
              "    .dataframe tbody tr th {\n",
              "        vertical-align: top;\n",
              "    }\n",
              "\n",
              "    .dataframe thead th {\n",
              "        text-align: right;\n",
              "    }\n",
              "</style>\n",
              "<table border=\"1\" class=\"dataframe\">\n",
              "  <thead>\n",
              "    <tr style=\"text-align: right;\">\n",
              "      <th></th>\n",
              "      <th>cwc_min</th>\n",
              "      <th>cwc_max</th>\n",
              "      <th>csc_min</th>\n",
              "      <th>csc_max</th>\n",
              "      <th>ctc_min</th>\n",
              "      <th>ctc_max</th>\n",
              "      <th>last_word_eq</th>\n",
              "      <th>first_word_eq</th>\n",
              "      <th>abs_len_diff</th>\n",
              "      <th>mean_len</th>\n",
              "      <th>token_set_ratio</th>\n",
              "      <th>token_sort_ratio</th>\n",
              "      <th>fuzz_ratio</th>\n",
              "      <th>fuzz_partial_ratio</th>\n",
              "      <th>longest_substr_ratio</th>\n",
              "      <th>freq_qid1</th>\n",
              "      <th>freq_qid2</th>\n",
              "      <th>q1len</th>\n",
              "      <th>q2len</th>\n",
              "      <th>q1_n_words</th>\n",
              "      <th>q2_n_words</th>\n",
              "      <th>word_Common</th>\n",
              "      <th>word_Total</th>\n",
              "      <th>word_share</th>\n",
              "      <th>freq_q1+q2</th>\n",
              "      <th>freq_q1-q2</th>\n",
              "      <th>0_x</th>\n",
              "      <th>1_x</th>\n",
              "      <th>2_x</th>\n",
              "      <th>3_x</th>\n",
              "      <th>4_x</th>\n",
              "      <th>5_x</th>\n",
              "      <th>6_x</th>\n",
              "      <th>7_x</th>\n",
              "      <th>8_x</th>\n",
              "      <th>9_x</th>\n",
              "      <th>10_x</th>\n",
              "      <th>11_x</th>\n",
              "      <th>12_x</th>\n",
              "      <th>13_x</th>\n",
              "      <th>...</th>\n",
              "      <th>56_y</th>\n",
              "      <th>57_y</th>\n",
              "      <th>58_y</th>\n",
              "      <th>59_y</th>\n",
              "      <th>60_y</th>\n",
              "      <th>61_y</th>\n",
              "      <th>62_y</th>\n",
              "      <th>63_y</th>\n",
              "      <th>64_y</th>\n",
              "      <th>65_y</th>\n",
              "      <th>66_y</th>\n",
              "      <th>67_y</th>\n",
              "      <th>68_y</th>\n",
              "      <th>69_y</th>\n",
              "      <th>70_y</th>\n",
              "      <th>71_y</th>\n",
              "      <th>72_y</th>\n",
              "      <th>73_y</th>\n",
              "      <th>74_y</th>\n",
              "      <th>75_y</th>\n",
              "      <th>76_y</th>\n",
              "      <th>77_y</th>\n",
              "      <th>78_y</th>\n",
              "      <th>79_y</th>\n",
              "      <th>80_y</th>\n",
              "      <th>81_y</th>\n",
              "      <th>82_y</th>\n",
              "      <th>83_y</th>\n",
              "      <th>84_y</th>\n",
              "      <th>85_y</th>\n",
              "      <th>86_y</th>\n",
              "      <th>87_y</th>\n",
              "      <th>88_y</th>\n",
              "      <th>89_y</th>\n",
              "      <th>90_y</th>\n",
              "      <th>91_y</th>\n",
              "      <th>92_y</th>\n",
              "      <th>93_y</th>\n",
              "      <th>94_y</th>\n",
              "      <th>95_y</th>\n",
              "    </tr>\n",
              "  </thead>\n",
              "  <tbody>\n",
              "    <tr>\n",
              "      <th>1</th>\n",
              "      <td>0.599988</td>\n",
              "      <td>0.599988</td>\n",
              "      <td>0.749981</td>\n",
              "      <td>0.749981</td>\n",
              "      <td>0.666659</td>\n",
              "      <td>0.666659</td>\n",
              "      <td>0.0</td>\n",
              "      <td>0.0</td>\n",
              "      <td>0.0</td>\n",
              "      <td>9.0</td>\n",
              "      <td>76</td>\n",
              "      <td>73</td>\n",
              "      <td>71</td>\n",
              "      <td>70</td>\n",
              "      <td>0.313725</td>\n",
              "      <td>1</td>\n",
              "      <td>4</td>\n",
              "      <td>50</td>\n",
              "      <td>51</td>\n",
              "      <td>9</td>\n",
              "      <td>9</td>\n",
              "      <td>6.0</td>\n",
              "      <td>18.0</td>\n",
              "      <td>0.333333</td>\n",
              "      <td>5</td>\n",
              "      <td>3</td>\n",
              "      <td>-31.991828</td>\n",
              "      <td>-2.109376</td>\n",
              "      <td>-10.669669</td>\n",
              "      <td>128.697693</td>\n",
              "      <td>49.333217</td>\n",
              "      <td>66.031467</td>\n",
              "      <td>26.340297</td>\n",
              "      <td>31.452686</td>\n",
              "      <td>70.586283</td>\n",
              "      <td>48.097798</td>\n",
              "      <td>53.846307</td>\n",
              "      <td>-35.072345</td>\n",
              "      <td>5.232963</td>\n",
              "      <td>-48.288592</td>\n",
              "      <td>...</td>\n",
              "      <td>-9.287656</td>\n",
              "      <td>30.646452</td>\n",
              "      <td>-24.611163</td>\n",
              "      <td>2.909350</td>\n",
              "      <td>-0.206947</td>\n",
              "      <td>-37.296647</td>\n",
              "      <td>46.447291</td>\n",
              "      <td>13.365411</td>\n",
              "      <td>6.274764</td>\n",
              "      <td>22.941308</td>\n",
              "      <td>6.505387</td>\n",
              "      <td>-5.354055</td>\n",
              "      <td>8.322517</td>\n",
              "      <td>12.467183</td>\n",
              "      <td>-29.673280</td>\n",
              "      <td>-120.814000</td>\n",
              "      <td>39.613308</td>\n",
              "      <td>27.172053</td>\n",
              "      <td>-37.741688</td>\n",
              "      <td>7.759396</td>\n",
              "      <td>37.015703</td>\n",
              "      <td>-38.382387</td>\n",
              "      <td>-31.184749</td>\n",
              "      <td>54.143909</td>\n",
              "      <td>61.628811</td>\n",
              "      <td>-82.037285</td>\n",
              "      <td>9.068402</td>\n",
              "      <td>16.058424</td>\n",
              "      <td>30.889387</td>\n",
              "      <td>1.291776</td>\n",
              "      <td>-5.474643</td>\n",
              "      <td>20.655116</td>\n",
              "      <td>-35.461493</td>\n",
              "      <td>38.966929</td>\n",
              "      <td>-34.470354</td>\n",
              "      <td>-1.125351</td>\n",
              "      <td>24.922383</td>\n",
              "      <td>44.378096</td>\n",
              "      <td>60.847307</td>\n",
              "      <td>49.746906</td>\n",
              "    </tr>\n",
              "    <tr>\n",
              "      <th>2</th>\n",
              "      <td>0.333322</td>\n",
              "      <td>0.249994</td>\n",
              "      <td>0.249994</td>\n",
              "      <td>0.166664</td>\n",
              "      <td>0.285710</td>\n",
              "      <td>0.199998</td>\n",
              "      <td>1.0</td>\n",
              "      <td>0.0</td>\n",
              "      <td>3.0</td>\n",
              "      <td>8.5</td>\n",
              "      <td>60</td>\n",
              "      <td>60</td>\n",
              "      <td>55</td>\n",
              "      <td>61</td>\n",
              "      <td>0.307692</td>\n",
              "      <td>1</td>\n",
              "      <td>1</td>\n",
              "      <td>47</td>\n",
              "      <td>38</td>\n",
              "      <td>10</td>\n",
              "      <td>7</td>\n",
              "      <td>2.0</td>\n",
              "      <td>17.0</td>\n",
              "      <td>0.117647</td>\n",
              "      <td>2</td>\n",
              "      <td>0</td>\n",
              "      <td>111.408157</td>\n",
              "      <td>34.763150</td>\n",
              "      <td>29.102162</td>\n",
              "      <td>15.397933</td>\n",
              "      <td>69.775778</td>\n",
              "      <td>95.848822</td>\n",
              "      <td>69.050083</td>\n",
              "      <td>-3.732671</td>\n",
              "      <td>91.466773</td>\n",
              "      <td>46.278286</td>\n",
              "      <td>-4.678934</td>\n",
              "      <td>-11.112288</td>\n",
              "      <td>-24.702159</td>\n",
              "      <td>-1.640383</td>\n",
              "      <td>...</td>\n",
              "      <td>14.501244</td>\n",
              "      <td>57.171743</td>\n",
              "      <td>-11.585311</td>\n",
              "      <td>22.010850</td>\n",
              "      <td>-7.995472</td>\n",
              "      <td>26.613871</td>\n",
              "      <td>51.820588</td>\n",
              "      <td>40.059468</td>\n",
              "      <td>25.940609</td>\n",
              "      <td>-3.816466</td>\n",
              "      <td>-15.537732</td>\n",
              "      <td>-81.330356</td>\n",
              "      <td>-9.234465</td>\n",
              "      <td>-5.091736</td>\n",
              "      <td>-59.007987</td>\n",
              "      <td>-52.108898</td>\n",
              "      <td>-13.621048</td>\n",
              "      <td>3.796060</td>\n",
              "      <td>60.660925</td>\n",
              "      <td>-48.794096</td>\n",
              "      <td>94.323258</td>\n",
              "      <td>-94.726147</td>\n",
              "      <td>-24.705309</td>\n",
              "      <td>11.889583</td>\n",
              "      <td>-31.347494</td>\n",
              "      <td>-1.813668</td>\n",
              "      <td>-3.801079</td>\n",
              "      <td>22.989738</td>\n",
              "      <td>11.242509</td>\n",
              "      <td>27.802386</td>\n",
              "      <td>33.496301</td>\n",
              "      <td>-31.521701</td>\n",
              "      <td>-40.456908</td>\n",
              "      <td>17.178060</td>\n",
              "      <td>-44.733100</td>\n",
              "      <td>-8.080553</td>\n",
              "      <td>98.486536</td>\n",
              "      <td>19.759179</td>\n",
              "      <td>46.737219</td>\n",
              "      <td>62.509089</td>\n",
              "    </tr>\n",
              "    <tr>\n",
              "      <th>3</th>\n",
              "      <td>0.999988</td>\n",
              "      <td>0.888879</td>\n",
              "      <td>0.999988</td>\n",
              "      <td>0.888879</td>\n",
              "      <td>0.941171</td>\n",
              "      <td>0.941171</td>\n",
              "      <td>0.0</td>\n",
              "      <td>1.0</td>\n",
              "      <td>0.0</td>\n",
              "      <td>17.0</td>\n",
              "      <td>99</td>\n",
              "      <td>98</td>\n",
              "      <td>99</td>\n",
              "      <td>99</td>\n",
              "      <td>0.979798</td>\n",
              "      <td>3</td>\n",
              "      <td>7</td>\n",
              "      <td>98</td>\n",
              "      <td>98</td>\n",
              "      <td>17</td>\n",
              "      <td>17</td>\n",
              "      <td>16.0</td>\n",
              "      <td>34.0</td>\n",
              "      <td>0.470588</td>\n",
              "      <td>10</td>\n",
              "      <td>4</td>\n",
              "      <td>18.079498</td>\n",
              "      <td>14.351534</td>\n",
              "      <td>-138.675919</td>\n",
              "      <td>10.835533</td>\n",
              "      <td>128.928913</td>\n",
              "      <td>63.959430</td>\n",
              "      <td>45.356961</td>\n",
              "      <td>19.589643</td>\n",
              "      <td>165.082500</td>\n",
              "      <td>130.735843</td>\n",
              "      <td>-104.456178</td>\n",
              "      <td>38.016915</td>\n",
              "      <td>-18.394778</td>\n",
              "      <td>-31.952357</td>\n",
              "      <td>...</td>\n",
              "      <td>101.151266</td>\n",
              "      <td>23.563682</td>\n",
              "      <td>-42.061273</td>\n",
              "      <td>29.495019</td>\n",
              "      <td>35.020964</td>\n",
              "      <td>-46.052804</td>\n",
              "      <td>17.597581</td>\n",
              "      <td>140.262575</td>\n",
              "      <td>68.713921</td>\n",
              "      <td>-47.295176</td>\n",
              "      <td>164.520196</td>\n",
              "      <td>-71.960643</td>\n",
              "      <td>-89.648214</td>\n",
              "      <td>126.848527</td>\n",
              "      <td>21.884580</td>\n",
              "      <td>22.699260</td>\n",
              "      <td>86.036772</td>\n",
              "      <td>21.685461</td>\n",
              "      <td>81.600296</td>\n",
              "      <td>-74.471893</td>\n",
              "      <td>221.866886</td>\n",
              "      <td>-96.498821</td>\n",
              "      <td>-77.163042</td>\n",
              "      <td>71.820481</td>\n",
              "      <td>74.005571</td>\n",
              "      <td>-97.216554</td>\n",
              "      <td>-31.311871</td>\n",
              "      <td>50.181891</td>\n",
              "      <td>87.899431</td>\n",
              "      <td>-54.965005</td>\n",
              "      <td>39.055920</td>\n",
              "      <td>16.950459</td>\n",
              "      <td>17.844566</td>\n",
              "      <td>60.962834</td>\n",
              "      <td>-71.761846</td>\n",
              "      <td>-62.724857</td>\n",
              "      <td>16.446613</td>\n",
              "      <td>-2.563095</td>\n",
              "      <td>-4.408747</td>\n",
              "      <td>144.244452</td>\n",
              "    </tr>\n",
              "    <tr>\n",
              "      <th>4</th>\n",
              "      <td>0.499992</td>\n",
              "      <td>0.230767</td>\n",
              "      <td>0.857131</td>\n",
              "      <td>0.545450</td>\n",
              "      <td>0.599996</td>\n",
              "      <td>0.321427</td>\n",
              "      <td>0.0</td>\n",
              "      <td>1.0</td>\n",
              "      <td>13.0</td>\n",
              "      <td>21.5</td>\n",
              "      <td>76</td>\n",
              "      <td>48</td>\n",
              "      <td>42</td>\n",
              "      <td>51</td>\n",
              "      <td>0.150685</td>\n",
              "      <td>2</td>\n",
              "      <td>1</td>\n",
              "      <td>72</td>\n",
              "      <td>146</td>\n",
              "      <td>15</td>\n",
              "      <td>27</td>\n",
              "      <td>8.0</td>\n",
              "      <td>38.0</td>\n",
              "      <td>0.210526</td>\n",
              "      <td>3</td>\n",
              "      <td>1</td>\n",
              "      <td>51.751133</td>\n",
              "      <td>24.039557</td>\n",
              "      <td>-93.210800</td>\n",
              "      <td>-79.703619</td>\n",
              "      <td>68.876757</td>\n",
              "      <td>24.949938</td>\n",
              "      <td>65.042700</td>\n",
              "      <td>-3.706922</td>\n",
              "      <td>108.572114</td>\n",
              "      <td>86.239099</td>\n",
              "      <td>-28.365077</td>\n",
              "      <td>1.548292</td>\n",
              "      <td>71.165328</td>\n",
              "      <td>-1.263019</td>\n",
              "      <td>...</td>\n",
              "      <td>220.867781</td>\n",
              "      <td>59.451664</td>\n",
              "      <td>99.480782</td>\n",
              "      <td>72.031191</td>\n",
              "      <td>367.182055</td>\n",
              "      <td>-207.559376</td>\n",
              "      <td>81.609320</td>\n",
              "      <td>-114.576858</td>\n",
              "      <td>55.391183</td>\n",
              "      <td>-124.583977</td>\n",
              "      <td>64.094860</td>\n",
              "      <td>3.019246</td>\n",
              "      <td>16.603272</td>\n",
              "      <td>132.484609</td>\n",
              "      <td>-162.999005</td>\n",
              "      <td>41.692603</td>\n",
              "      <td>54.454638</td>\n",
              "      <td>-4.122963</td>\n",
              "      <td>-33.940042</td>\n",
              "      <td>-36.210106</td>\n",
              "      <td>192.722854</td>\n",
              "      <td>64.673956</td>\n",
              "      <td>58.131586</td>\n",
              "      <td>68.892389</td>\n",
              "      <td>26.717240</td>\n",
              "      <td>-177.876330</td>\n",
              "      <td>-166.455341</td>\n",
              "      <td>-67.568586</td>\n",
              "      <td>48.982885</td>\n",
              "      <td>-91.779459</td>\n",
              "      <td>16.263905</td>\n",
              "      <td>-46.293511</td>\n",
              "      <td>-129.092063</td>\n",
              "      <td>118.254089</td>\n",
              "      <td>-77.363715</td>\n",
              "      <td>-91.809121</td>\n",
              "      <td>-79.908986</td>\n",
              "      <td>231.497921</td>\n",
              "      <td>22.372251</td>\n",
              "      <td>119.285935</td>\n",
              "    </tr>\n",
              "    <tr>\n",
              "      <th>5</th>\n",
              "      <td>0.399992</td>\n",
              "      <td>0.399992</td>\n",
              "      <td>0.599988</td>\n",
              "      <td>0.249998</td>\n",
              "      <td>0.499995</td>\n",
              "      <td>0.294116</td>\n",
              "      <td>0.0</td>\n",
              "      <td>0.0</td>\n",
              "      <td>7.0</td>\n",
              "      <td>13.5</td>\n",
              "      <td>65</td>\n",
              "      <td>55</td>\n",
              "      <td>59</td>\n",
              "      <td>77</td>\n",
              "      <td>0.370968</td>\n",
              "      <td>1</td>\n",
              "      <td>1</td>\n",
              "      <td>61</td>\n",
              "      <td>99</td>\n",
              "      <td>10</td>\n",
              "      <td>16</td>\n",
              "      <td>4.0</td>\n",
              "      <td>26.0</td>\n",
              "      <td>0.153846</td>\n",
              "      <td>2</td>\n",
              "      <td>0</td>\n",
              "      <td>-22.235384</td>\n",
              "      <td>-0.261012</td>\n",
              "      <td>-25.480990</td>\n",
              "      <td>-27.390847</td>\n",
              "      <td>87.289456</td>\n",
              "      <td>113.660921</td>\n",
              "      <td>55.626319</td>\n",
              "      <td>-5.293016</td>\n",
              "      <td>107.676927</td>\n",
              "      <td>104.396277</td>\n",
              "      <td>47.228066</td>\n",
              "      <td>36.692173</td>\n",
              "      <td>-58.145861</td>\n",
              "      <td>-60.523181</td>\n",
              "      <td>...</td>\n",
              "      <td>105.929382</td>\n",
              "      <td>-26.411697</td>\n",
              "      <td>-62.627937</td>\n",
              "      <td>41.236740</td>\n",
              "      <td>98.630806</td>\n",
              "      <td>29.441047</td>\n",
              "      <td>21.113620</td>\n",
              "      <td>35.380008</td>\n",
              "      <td>125.200085</td>\n",
              "      <td>-115.548088</td>\n",
              "      <td>38.594006</td>\n",
              "      <td>-148.263039</td>\n",
              "      <td>45.469409</td>\n",
              "      <td>40.267366</td>\n",
              "      <td>-34.956100</td>\n",
              "      <td>-46.590411</td>\n",
              "      <td>149.360996</td>\n",
              "      <td>5.008830</td>\n",
              "      <td>80.068491</td>\n",
              "      <td>-18.666033</td>\n",
              "      <td>121.436575</td>\n",
              "      <td>-85.129152</td>\n",
              "      <td>-134.936953</td>\n",
              "      <td>-20.551227</td>\n",
              "      <td>-42.530528</td>\n",
              "      <td>43.542180</td>\n",
              "      <td>-47.627046</td>\n",
              "      <td>64.640554</td>\n",
              "      <td>25.399293</td>\n",
              "      <td>-109.540218</td>\n",
              "      <td>144.424010</td>\n",
              "      <td>26.339200</td>\n",
              "      <td>-85.993912</td>\n",
              "      <td>55.712965</td>\n",
              "      <td>-54.458808</td>\n",
              "      <td>-31.927712</td>\n",
              "      <td>-9.968742</td>\n",
              "      <td>72.311762</td>\n",
              "      <td>14.335768</td>\n",
              "      <td>119.527905</td>\n",
              "    </tr>\n",
              "  </tbody>\n",
              "</table>\n",
              "<p>5 rows × 218 columns</p>\n",
              "</div>"
            ],
            "text/plain": [
              "    cwc_min   cwc_max   csc_min  ...        93_y       94_y        95_y\n",
              "1  0.599988  0.599988  0.749981  ...   44.378096  60.847307   49.746906\n",
              "2  0.333322  0.249994  0.249994  ...   19.759179  46.737219   62.509089\n",
              "3  0.999988  0.888879  0.999988  ...   -2.563095  -4.408747  144.244452\n",
              "4  0.499992  0.230767  0.857131  ...  231.497921  22.372251  119.285935\n",
              "5  0.399992  0.399992  0.599988  ...   72.311762  14.335768  119.527905\n",
              "\n",
              "[5 rows x 218 columns]"
            ]
          },
          "metadata": {
            "tags": []
          },
          "execution_count": 11
        }
      ]
    },
    {
      "cell_type": "markdown",
      "metadata": {
        "id": "3j_orFWYoebz",
        "colab_type": "text"
      },
      "source": [
        "##Converting strings to numerics"
      ]
    },
    {
      "cell_type": "code",
      "metadata": {
        "id": "m6-Cuk6anI5v",
        "colab_type": "code",
        "colab": {}
      },
      "source": [
        "# after we read from sql table each entry was read it as a string\n",
        "# we convert all the features into numaric before we apply any model\n",
        "cols = list(data.columns)\n",
        "for i in cols:\n",
        "    data[i] = data[i].apply(pd.to_numeric)\n",
        "    #print(i)"
      ],
      "execution_count": 0,
      "outputs": []
    },
    {
      "cell_type": "code",
      "metadata": {
        "id": "9H5fztfBniKd",
        "colab_type": "code",
        "colab": {}
      },
      "source": [
        "# https://stackoverflow.com/questions/7368789/convert-all-strings-in-a-list-to-int\n",
        "y_true = list(map(int, y_true.values))\n"
      ],
      "execution_count": 0,
      "outputs": []
    },
    {
      "cell_type": "markdown",
      "metadata": {
        "id": "rAA44BVLrzJ9",
        "colab_type": "text"
      },
      "source": [
        "##Random train test split( 70:30)"
      ]
    },
    {
      "cell_type": "code",
      "metadata": {
        "id": "Wab6Padrri-w",
        "colab_type": "code",
        "colab": {}
      },
      "source": [
        "X_train,X_test, y_train, y_test = train_test_split(data, y_true, stratify=y_true, test_size=0.3)"
      ],
      "execution_count": 0,
      "outputs": []
    },
    {
      "cell_type": "code",
      "metadata": {
        "id": "T5J6sqPyrvCr",
        "colab_type": "code",
        "outputId": "ad6e581c-4d5f-4f77-be47-4a5193732cb8",
        "colab": {
          "base_uri": "https://localhost:8080/",
          "height": 51
        }
      },
      "source": [
        "print(\"Number of data points in train data :\",X_train.shape)\n",
        "print(\"Number of data points in test data :\",X_test.shape)"
      ],
      "execution_count": 0,
      "outputs": [
        {
          "output_type": "stream",
          "text": [
            "Number of data points in train data : (7000, 218)\n",
            "Number of data points in test data : (3000, 218)\n"
          ],
          "name": "stdout"
        }
      ]
    },
    {
      "cell_type": "code",
      "metadata": {
        "id": "4M75QXZ7r8fH",
        "colab_type": "code",
        "outputId": "4e6bd9b8-c1f5-4047-fe1f-3c0dcb52d488",
        "colab": {
          "base_uri": "https://localhost:8080/",
          "height": 85
        }
      },
      "source": [
        "print(\"-\"*10, \"Distribution of output variable in train data\", \"-\"*10)\n",
        "train_distr = Counter(y_train)\n",
        "train_len = len(y_train)\n",
        "print(\"Class 0: \",int(train_distr[0])/train_len,\"Class 1: \", int(train_distr[1])/train_len)\n",
        "print(\"-\"*10, \"Distribution of output variable in test data\", \"-\"*10)\n",
        "test_distr = Counter(y_test)\n",
        "test_len = len(y_test)\n",
        "print(\"Class 0: \",int(test_distr[0])/test_len, \"Class 1: \",int(test_distr[1])/test_len)"
      ],
      "execution_count": 0,
      "outputs": [
        {
          "output_type": "stream",
          "text": [
            "---------- Distribution of output variable in train data ----------\n",
            "Class 0:  0.6235714285714286 Class 1:  0.37642857142857145\n",
            "---------- Distribution of output variable in test data ----------\n",
            "Class 0:  0.6236666666666667 Class 1:  0.37633333333333335\n"
          ],
          "name": "stdout"
        }
      ]
    },
    {
      "cell_type": "code",
      "metadata": {
        "id": "CGh-qChmVJuE",
        "colab_type": "code",
        "colab": {}
      },
      "source": [
        "# This function plots the confusion matrices given y_i, y_i_hat.\n",
        "def plot_confusion_matrix(test_y, predict_y):\n",
        "    C = confusion_matrix(test_y, predict_y)\n",
        "    # C = 9,9 matrix, each cell (i,j) represents number of points of class i are predicted class j\n",
        "    \n",
        "    A =(((C.T)/(C.sum(axis=1))).T)\n",
        "    #divid each element of the confusion matrix with the sum of elements in that column\n",
        "    \n",
        "    # C = [[1, 2],\n",
        "    #     [3, 4]]\n",
        "    # C.T = [[1, 3],\n",
        "    #        [2, 4]]\n",
        "    # C.sum(axis = 1)  axis=0 corresonds to columns and axis=1 corresponds to rows in two diamensional array\n",
        "    # C.sum(axix =1) = [[3, 7]]\n",
        "    # ((C.T)/(C.sum(axis=1))) = [[1/3, 3/7]\n",
        "    #                           [2/3, 4/7]]\n",
        "\n",
        "    # ((C.T)/(C.sum(axis=1))).T = [[1/3, 2/3]\n",
        "    #                           [3/7, 4/7]]\n",
        "    # sum of row elements = 1\n",
        "    \n",
        "    B =(C/C.sum(axis=0))\n",
        "    #divid each element of the confusion matrix with the sum of elements in that row\n",
        "    # C = [[1, 2],\n",
        "    #     [3, 4]]\n",
        "    # C.sum(axis = 0)  axis=0 corresonds to columns and axis=1 corresponds to rows in two diamensional array\n",
        "    # C.sum(axix =0) = [[4, 6]]\n",
        "    # (C/C.sum(axis=0)) = [[1/4, 2/6],\n",
        "    #                      [3/4, 4/6]] \n",
        "    plt.figure(figsize=(20,4))\n",
        "    \n",
        "    labels = [0,1]\n",
        "    # representing A in heatmap format\n",
        "    cmap=sns.light_palette(\"blue\")\n",
        "    plt.subplot(1, 3, 1)\n",
        "    sns.heatmap(C, annot=True, cmap=cmap, fmt=\".3f\", xticklabels=labels, yticklabels=labels)\n",
        "    plt.xlabel('Predicted Class')\n",
        "    plt.ylabel('Original Class')\n",
        "    plt.title(\"Confusion matrix\")\n",
        "    \n",
        "    plt.subplot(1, 3, 2)\n",
        "    sns.heatmap(B, annot=True, cmap=cmap, fmt=\".3f\", xticklabels=labels, yticklabels=labels)\n",
        "    plt.xlabel('Predicted Class')\n",
        "    plt.ylabel('Original Class')\n",
        "    plt.title(\"Precision matrix\")\n",
        "    \n",
        "    plt.subplot(1, 3, 3)\n",
        "    # representing B in heatmap format\n",
        "    sns.heatmap(A, annot=True, cmap=cmap, fmt=\".3f\", xticklabels=labels, yticklabels=labels)\n",
        "    plt.xlabel('Predicted Class')\n",
        "    plt.ylabel('Original Class')\n",
        "    plt.title(\"Recall matrix\")\n",
        "    \n",
        "    plt.show()"
      ],
      "execution_count": 0,
      "outputs": []
    },
    {
      "cell_type": "markdown",
      "metadata": {
        "id": "kSs6v-uUybV1",
        "colab_type": "text"
      },
      "source": [
        "##Building a random model (Finding worst-case log-loss)"
      ]
    },
    {
      "cell_type": "code",
      "metadata": {
        "id": "gkeKKzwlsN-a",
        "colab_type": "code",
        "outputId": "d1e411af-3dce-4bb8-a07b-43938db2d2de",
        "colab": {
          "base_uri": "https://localhost:8080/",
          "height": 312
        }
      },
      "source": [
        "import scikitplot.metrics as skplt\n",
        "\n",
        "\n",
        "\n",
        "\n",
        "# we need to generate 9 numbers and the sum of numbers should be 1\n",
        "# one solution is to genarate 9 numbers and divide each of the numbers by their sum\n",
        "# ref: https://stackoverflow.com/a/18662466/4084039\n",
        "# we create a output array that has exactly same size as the CV data\n",
        "predicted_y = np.zeros((test_len,2))\n",
        "for i in range(test_len):\n",
        "    rand_probs = np.random.rand(1,2)\n",
        "    predicted_y[i] = ((rand_probs/sum(sum(rand_probs)))[0])\n",
        "print(\"Log loss on Test Data using Random Model\",log_loss(y_test, predicted_y, eps=1e-15))\n",
        "predicted_y =np.argmax(predicted_y, axis=1)\n",
        "\n",
        "\n",
        "plot_confusion_matrix(y_test, predicted_y)\n",
        "plt.show()"
      ],
      "execution_count": 0,
      "outputs": [
        {
          "output_type": "stream",
          "text": [
            "Log loss on Test Data using Random Model 0.8853563385650031\n"
          ],
          "name": "stdout"
        },
        {
          "output_type": "display_data",
          "data": {
            "image/png": "[encoded data removed]",
            "text/plain": [
              "<Figure size 1440x288 with 6 Axes>"
            ]
          },
          "metadata": {
            "tags": [],
            "needs_background": "light"
          }
        }
      ]
    },
    {
      "cell_type": "markdown",
      "metadata": {
        "id": "9hWv9WiQVt0P",
        "colab_type": "text"
      },
      "source": [
        "##Logistic Regression with hyperparameter tuning"
      ]
    },
    {
      "cell_type": "code",
      "metadata": {
        "id": "NcOKyM1gytXb",
        "colab_type": "code",
        "outputId": "8cbeb4b4-9848-4ec5-c492-3578271fff51",
        "colab": {
          "base_uri": "https://localhost:8080/",
          "height": 743
        }
      },
      "source": [
        "alpha = [10 ** x for x in range(-5, 2)] # hyperparam for SGD classifier.\n",
        "\n",
        "# at http://scikit-learn.org/stable/modules/generated/sklearn.linear_model.SGDClassifier.html\n",
        "\n",
        "\n",
        "log_error_array=[]\n",
        "for i in alpha:\n",
        "    clf = SGDClassifier(alpha=i, penalty='l2', loss='log', random_state=42)\n",
        "    clf.fit(X_train, y_train)\n",
        "    sig_clf = CalibratedClassifierCV(clf, method=\"sigmoid\")\n",
        "    sig_clf.fit(X_train, y_train)\n",
        "    predict_y = sig_clf.predict_proba(X_test)\n",
        "    log_error_array.append(log_loss(y_test, predict_y, labels=clf.classes_, eps=1e-15))\n",
        "    print('For values of alpha = ', i, \"The log loss is:\",log_loss(y_test, predict_y, labels=clf.classes_, eps=1e-15))\n",
        "\n",
        "fig, ax = plt.subplots()\n",
        "ax.plot(alpha, log_error_array,c='g')\n",
        "for i, txt in enumerate(np.round(log_error_array,3)):\n",
        "    ax.annotate((alpha[i],np.round(txt,3)), (alpha[i],log_error_array[i]))\n",
        "plt.grid()\n",
        "plt.title(\"Cross Validation Error for each alpha\")\n",
        "plt.xlabel(\"Alpha i's\")\n",
        "plt.ylabel(\"Error measure\")\n",
        "plt.show()\n",
        "\n",
        "\n",
        "best_alpha = np.argmin(log_error_array)\n",
        "clf = SGDClassifier(alpha=alpha[best_alpha], penalty='l2', loss='log', random_state=42)\n",
        "clf.fit(X_train, y_train)\n",
        "sig_clf = CalibratedClassifierCV(clf, method=\"sigmoid\")\n",
        "sig_clf.fit(X_train, y_train)\n",
        "\n",
        "predict_y = sig_clf.predict_proba(X_train)\n",
        "print('For values of best alpha = ', alpha[best_alpha], \"The train log loss is:\",log_loss(y_train, predict_y, labels=clf.classes_, eps=1e-15))\n",
        "predict_y = sig_clf.predict_proba(X_test)\n",
        "print('For values of best alpha = ', alpha[best_alpha], \"The test log loss is:\",log_loss(y_test, predict_y, labels=clf.classes_, eps=1e-15))\n",
        "predicted_y =np.argmax(predict_y,axis=1)\n",
        "print(\"Total number of data points :\", len(predicted_y))\n",
        "plot_confusion_matrix(y_test, predicted_y)"
      ],
      "execution_count": 0,
      "outputs": [
        {
          "output_type": "stream",
          "text": [
            "For values of alpha =  1e-05 The log loss is: 0.6622407052092435\n",
            "For values of alpha =  0.0001 The log loss is: 0.6622407052092435\n",
            "For values of alpha =  0.001 The log loss is: 0.5086440061811538\n",
            "For values of alpha =  0.01 The log loss is: 0.5041113927207289\n",
            "For values of alpha =  0.1 The log loss is: 0.49869961794331313\n",
            "For values of alpha =  1 The log loss is: 0.5084947870358708\n",
            "For values of alpha =  10 The log loss is: 0.5441067792448618\n"
          ],
          "name": "stdout"
        },
        {
          "output_type": "display_data",
          "data": {
            "image/png": "[encoded data removed]",
            "text/plain": [
              "<Figure size 432x288 with 1 Axes>"
            ]
          },
          "metadata": {
            "tags": [],
            "needs_background": "light"
          }
        },
        {
          "output_type": "stream",
          "text": [
            "For values of best alpha =  0.1 The train log loss is: 0.48610110242533966\n",
            "For values of best alpha =  0.1 The test log loss is: 0.49869961794331313\n",
            "Total number of data points : 3000\n"
          ],
          "name": "stdout"
        },
        {
          "output_type": "display_data",
          "data": {
            "image/png": "[encoded data removed]",
            "text/plain": [
              "<Figure size 1440x288 with 6 Axes>"
            ]
          },
          "metadata": {
            "tags": [],
            "needs_background": "light"
          }
        }
      ]
    },
    {
      "cell_type": "markdown",
      "metadata": {
        "id": "gSc8L6QvbI9Y",
        "colab_type": "text"
      },
      "source": [
        "##Linear SVM with hyperparameter tuning"
      ]
    },
    {
      "cell_type": "code",
      "metadata": {
        "id": "F_o7B7iny-Sv",
        "colab_type": "code",
        "outputId": "9fe4f15e-434a-459e-dfcd-7b746c8a47ec",
        "colab": {
          "base_uri": "https://localhost:8080/",
          "height": 743
        }
      },
      "source": [
        "alpha = [10 ** x for x in range(-5, 2)] # hyperparam for SGD classifier.\n",
        "\n",
        "\n",
        "\n",
        "\n",
        "log_error_array=[]\n",
        "for i in alpha:\n",
        "    clf = SGDClassifier(alpha=i, penalty='l1', loss='hinge', random_state=42)\n",
        "    clf.fit(X_train, y_train)\n",
        "    sig_clf = CalibratedClassifierCV(clf, method=\"sigmoid\")\n",
        "    sig_clf.fit(X_train, y_train)\n",
        "    predict_y = sig_clf.predict_proba(X_test)\n",
        "    log_error_array.append(log_loss(y_test, predict_y, labels=clf.classes_, eps=1e-15))\n",
        "    print('For values of alpha = ', i, \"The log loss is:\",log_loss(y_test, predict_y, labels=clf.classes_, eps=1e-15))\n",
        "\n",
        "fig, ax = plt.subplots()\n",
        "ax.plot(alpha, log_error_array,c='g')\n",
        "for i, txt in enumerate(np.round(log_error_array,3)):\n",
        "    ax.annotate((alpha[i],np.round(txt,3)), (alpha[i],log_error_array[i]))\n",
        "plt.grid()\n",
        "plt.title(\"Cross Validation Error for each alpha\")\n",
        "plt.xlabel(\"Alpha i's\")\n",
        "plt.ylabel(\"Error measure\")\n",
        "plt.show()\n",
        "\n",
        "\n",
        "best_alpha = np.argmin(log_error_array)\n",
        "clf = SGDClassifier(alpha=alpha[best_alpha], penalty='l1', loss='hinge', random_state=42)\n",
        "clf.fit(X_train, y_train)\n",
        "sig_clf = CalibratedClassifierCV(clf, method=\"sigmoid\")\n",
        "sig_clf.fit(X_train, y_train)\n",
        "\n",
        "predict_y = sig_clf.predict_proba(X_train)\n",
        "print('For values of best alpha = ', alpha[best_alpha], \"The train log loss is:\",log_loss(y_train, predict_y, labels=clf.classes_, eps=1e-15))\n",
        "predict_y = sig_clf.predict_proba(X_test)\n",
        "print('For values of best alpha = ', alpha[best_alpha], \"The test log loss is:\",log_loss(y_test, predict_y, labels=clf.classes_, eps=1e-15))\n",
        "predicted_y =np.argmax(predict_y,axis=1)\n",
        "print(\"Total number of data points :\", len(predicted_y))\n",
        "plot_confusion_matrix(y_test, predicted_y)"
      ],
      "execution_count": 0,
      "outputs": [
        {
          "output_type": "stream",
          "text": [
            "For values of alpha =  1e-05 The log loss is: 0.6622407052092435\n",
            "For values of alpha =  0.0001 The log loss is: 0.6622407052092435\n",
            "For values of alpha =  0.001 The log loss is: 0.5666313421230619\n",
            "For values of alpha =  0.01 The log loss is: 0.49831740723567436\n",
            "For values of alpha =  0.1 The log loss is: 0.6045170718234409\n",
            "For values of alpha =  1 The log loss is: 0.6421686134439731\n",
            "For values of alpha =  10 The log loss is: 0.6622407052092435\n"
          ],
          "name": "stdout"
        },
        {
          "output_type": "display_data",
          "data": {
            "image/png": "[encoded data removed]",
            "text/plain": [
              "<Figure size 432x288 with 1 Axes>"
            ]
          },
          "metadata": {
            "tags": [],
            "needs_background": "light"
          }
        },
        {
          "output_type": "stream",
          "text": [
            "For values of best alpha =  0.01 The train log loss is: 0.4904819064912209\n",
            "For values of best alpha =  0.01 The test log loss is: 0.49831740723567436\n",
            "Total number of data points : 3000\n"
          ],
          "name": "stdout"
        },
        {
          "output_type": "display_data",
          "data": {
            "image/png": "[encoded data removed]",
            "text/plain": [
              "<Figure size 1440x288 with 6 Axes>"
            ]
          },
          "metadata": {
            "tags": [],
            "needs_background": "light"
          }
        }
      ]
    },
    {
      "cell_type": "markdown",
      "metadata": {
        "id": "slg6TrM6AEIC",
        "colab_type": "text"
      },
      "source": [
        "##XGboost with hyperparameter tuning"
      ]
    },
    {
      "cell_type": "code",
      "metadata": {
        "id": "Aw8tFdr4bOms",
        "colab_type": "code",
        "colab": {}
      },
      "source": [
        "import xgboost as xgb\n",
        "param_grid = {\"max_depth\":[x for x in range(2,10)],\n",
        "              \"n_estimators\":[50,100,150,200,300,400,500]}"
      ],
      "execution_count": 0,
      "outputs": []
    },
    {
      "cell_type": "code",
      "metadata": {
        "id": "1-DJsO1QcLbm",
        "colab_type": "code",
        "colab": {}
      },
      "source": [
        "model = RandomizedSearchCV(xgb.XGBClassifier(n_jobs=-1,random_state=25), param_distributions=param_grid,n_iter=30,scoring='neg_log_loss',cv=3,n_jobs=-1)"
      ],
      "execution_count": 0,
      "outputs": []
    },
    {
      "cell_type": "code",
      "metadata": {
        "id": "tSlH6LUPtmnw",
        "colab_type": "code",
        "outputId": "90a014db-a2db-4090-d5e0-1019add18bde",
        "colab": {
          "base_uri": "https://localhost:8080/",
          "height": 357
        }
      },
      "source": [
        "model.fit(X_train,y_train)"
      ],
      "execution_count": 0,
      "outputs": [
        {
          "output_type": "execute_result",
          "data": {
            "text/plain": [
              "RandomizedSearchCV(cv=3, error_score=nan,\n",
              "                   estimator=XGBClassifier(base_score=0.5, booster='gbtree',\n",
              "                                           colsample_bylevel=1,\n",
              "                                           colsample_bynode=1,\n",
              "                                           colsample_bytree=1, gamma=0,\n",
              "                                           learning_rate=0.1, max_delta_step=0,\n",
              "                                           max_depth=3, min_child_weight=1,\n",
              "                                           missing=None, n_estimators=100,\n",
              "                                           n_jobs=-1, nthread=None,\n",
              "                                           objective='binary:logistic',\n",
              "                                           random_state=25, reg_alpha=0,\n",
              "                                           reg_lambda=1, scale_pos_weight=1,\n",
              "                                           seed=None, silent=None, subsample=1,\n",
              "                                           verbosity=1),\n",
              "                   iid='deprecated', n_iter=30, n_jobs=-1,\n",
              "                   param_distributions={'max_depth': [2, 3, 4, 5, 6, 7, 8, 9],\n",
              "                                        'n_estimators': [50, 100, 150, 200, 300,\n",
              "                                                         400, 500]},\n",
              "                   pre_dispatch='2*n_jobs', random_state=None, refit=True,\n",
              "                   return_train_score=False, scoring='neg_log_loss', verbose=0)"
            ]
          },
          "metadata": {
            "tags": []
          },
          "execution_count": 43
        }
      ]
    },
    {
      "cell_type": "code",
      "metadata": {
        "id": "ujcAj438uAZq",
        "colab_type": "code",
        "outputId": "740cb53e-eb97-4453-a472-e8356c7d9229",
        "colab": {
          "base_uri": "https://localhost:8080/",
          "height": 34
        }
      },
      "source": [
        "model.best_params_\n"
      ],
      "execution_count": 0,
      "outputs": [
        {
          "output_type": "execute_result",
          "data": {
            "text/plain": [
              "{'max_depth': 6, 'n_estimators': 50}"
            ]
          },
          "metadata": {
            "tags": []
          },
          "execution_count": 44
        }
      ]
    },
    {
      "cell_type": "code",
      "metadata": {
        "id": "pLYGaN-w86sw",
        "colab_type": "code",
        "colab": {}
      },
      "source": [
        "clf=xgb.XGBClassifier(n_jobs=-1,random_state=25,max_depth=6,n_estimators=50)"
      ],
      "execution_count": 0,
      "outputs": []
    },
    {
      "cell_type": "code",
      "metadata": {
        "id": "5R-b3O7LuP1K",
        "colab_type": "code",
        "outputId": "a2f46d8f-918c-4d9b-8804-910acd51de4e",
        "colab": {
          "base_uri": "https://localhost:8080/",
          "height": 136
        }
      },
      "source": [
        "clf.fit(X_train,y_train)"
      ],
      "execution_count": 0,
      "outputs": [
        {
          "output_type": "execute_result",
          "data": {
            "text/plain": [
              "XGBClassifier(base_score=0.5, booster='gbtree', colsample_bylevel=1,\n",
              "              colsample_bynode=1, colsample_bytree=1, gamma=0,\n",
              "              learning_rate=0.1, max_delta_step=0, max_depth=6,\n",
              "              min_child_weight=1, missing=None, n_estimators=50, n_jobs=-1,\n",
              "              nthread=None, objective='binary:logistic', random_state=25,\n",
              "              reg_alpha=0, reg_lambda=1, scale_pos_weight=1, seed=None,\n",
              "              silent=None, subsample=1, verbosity=1)"
            ]
          },
          "metadata": {
            "tags": []
          },
          "execution_count": 49
        }
      ]
    },
    {
      "cell_type": "code",
      "metadata": {
        "id": "SSVzmQ0z8qzh",
        "colab_type": "code",
        "outputId": "76aa52f1-2d6a-4915-e6f9-7997561b059c",
        "colab": {
          "base_uri": "https://localhost:8080/",
          "height": 312
        }
      },
      "source": [
        "y_pred_test=clf.predict_proba(X_test)\n",
        "y_pred_train=clf.predict_proba(X_train)\n",
        "log_loss_train = log_loss(y_train, y_pred_train, eps=1e-15)\n",
        "log_loss_test=log_loss(y_test,y_pred_test,eps=1e-15)\n",
        "print('Train log loss = ',log_loss_train,' Test log loss = ',log_loss_test)\n",
        "predicted_y=np.argmax(y_pred_test,axis=1)\n",
        "plot_confusion_matrix(y_test,predicted_y)"
      ],
      "execution_count": 0,
      "outputs": [
        {
          "output_type": "stream",
          "text": [
            "Train log loss =  0.2508140835486951  Test log loss =  0.36936489392196137\n"
          ],
          "name": "stdout"
        },
        {
          "output_type": "display_data",
          "data": {
            "image/png": "[encoded data removed]",
            "text/plain": [
              "<Figure size 1440x288 with 6 Axes>"
            ]
          },
          "metadata": {
            "tags": [],
            "needs_background": "light"
          }
        }
      ]
    },
    {
      "cell_type": "code",
      "metadata": {
        "id": "oAHhZyPbAHWS",
        "colab_type": "code",
        "colab": {}
      },
      "source": [
        ""
      ],
      "execution_count": 0,
      "outputs": []
    }
  ]
}