{
  "nbformat": 4,
  "nbformat_minor": 0,
  "metadata": {
    "colab": {
      "name": "Quora_1",
      "provenance": []
    },
    "kernelspec": {
      "name": "python3",
      "display_name": "Python 3"
    }
  },
  "cells": [
    {
      "cell_type": "code",
      "metadata": {
        "id": "95KoS2HWD_KO",
        "colab_type": "code",
        "outputId": "11f477e3-4470-4f92-b369-088da42cce7a",
        "colab": {
          "base_uri": "https://localhost:8080/",
          "height": 34
        }
      },
      "source": [
        "pip install Distance"
      ],
      "execution_count": 14,
      "outputs": [
        {
          "output_type": "stream",
          "text": [
            "Requirement already satisfied: Distance in /usr/local/lib/python3.6/dist-packages (0.1.3)\n"
          ],
          "name": "stdout"
        }
      ]
    },
    {
      "cell_type": "code",
      "metadata": {
        "id": "Jf7znzrl7CXv",
        "colab_type": "code",
        "outputId": "7c3a1204-c0e1-4f46-e0fa-33efb513fcc6",
        "colab": {
          "base_uri": "https://localhost:8080/",
          "height": 51
        }
      },
      "source": [
        "import numpy as np\n",
        "import pandas as pd\n",
        "import seaborn as sns\n",
        "import matplotlib.pyplot as plt\n",
        "from subprocess import check_output\n",
        "%matplotlib inline\n",
        "import plotly.offline as py\n",
        "py.init_notebook_mode(connected=True)\n",
        "import plotly.graph_objs as go\n",
        "import plotly.tools as tls\n",
        "import os\n",
        "import gc\n",
        "%pylab\n",
        "import re\n",
        "from nltk.corpus import stopwords\n",
        "import distance\n",
        "from nltk.stem import PorterStemmer\n",
        "from bs4 import BeautifulSoup"
      ],
      "execution_count": 15,
      "outputs": [
        {
          "output_type": "display_data",
          "data": {
            "text/html": [
              "        <script type=\"text/javascript\">\n",
              "        window.PlotlyConfig = {MathJaxConfig: 'local'};\n",
              "        if (window.MathJax) {MathJax.Hub.Config({SVG: {font: \"STIX-Web\"}});}\n",
              "        if (typeof require !== 'undefined') {\n",
              "        require.undef(\"plotly\");\n",
              "        requirejs.config({\n",
              "            paths: {\n",
              "                'plotly': ['https://cdn.plot.ly/plotly-latest.min']\n",
              "            }\n",
              "        });\n",
              "        require(['plotly'], function(Plotly) {\n",
              "            window._Plotly = Plotly;\n",
              "        });\n",
              "        }\n",
              "        </script>\n",
              "        "
            ]
          },
          "metadata": {
            "tags": []
          }
        },
        {
          "output_type": "stream",
          "text": [
            "Using matplotlib backend: agg\n",
            "Populating the interactive namespace from numpy and matplotlib\n"
          ],
          "name": "stdout"
        }
      ]
    },
    {
      "cell_type": "code",
      "metadata": {
        "id": "2cFJxNw27sNe",
        "colab_type": "code",
        "colab": {}
      },
      "source": [
        "#importing the data\n",
        "df = pd.read_csv(\"/content/drive/My Drive/Quora/train.csv\")"
      ],
      "execution_count": 0,
      "outputs": []
    },
    {
      "cell_type": "code",
      "metadata": {
        "id": "XiXy190G8L62",
        "colab_type": "code",
        "outputId": "a434fdba-96c9-4b49-f527-c6d7a7628d3d",
        "colab": {
          "base_uri": "https://localhost:8080/",
          "height": 204
        }
      },
      "source": [
        "df.head()"
      ],
      "execution_count": 17,
      "outputs": [
        {
          "output_type": "execute_result",
          "data": {
            "text/html": [
              "<div>\n",
              "<style scoped>\n",
              "    .dataframe tbody tr th:only-of-type {\n",
              "        vertical-align: middle;\n",
              "    }\n",
              "\n",
              "    .dataframe tbody tr th {\n",
              "        vertical-align: top;\n",
              "    }\n",
              "\n",
              "    .dataframe thead th {\n",
              "        text-align: right;\n",
              "    }\n",
              "</style>\n",
              "<table border=\"1\" class=\"dataframe\">\n",
              "  <thead>\n",
              "    <tr style=\"text-align: right;\">\n",
              "      <th></th>\n",
              "      <th>id</th>\n",
              "      <th>qid1</th>\n",
              "      <th>qid2</th>\n",
              "      <th>question1</th>\n",
              "      <th>question2</th>\n",
              "      <th>is_duplicate</th>\n",
              "    </tr>\n",
              "  </thead>\n",
              "  <tbody>\n",
              "    <tr>\n",
              "      <th>0</th>\n",
              "      <td>0</td>\n",
              "      <td>1</td>\n",
              "      <td>2</td>\n",
              "      <td>What is the step by step guide to invest in sh...</td>\n",
              "      <td>What is the step by step guide to invest in sh...</td>\n",
              "      <td>0</td>\n",
              "    </tr>\n",
              "    <tr>\n",
              "      <th>1</th>\n",
              "      <td>1</td>\n",
              "      <td>3</td>\n",
              "      <td>4</td>\n",
              "      <td>What is the story of Kohinoor (Koh-i-Noor) Dia...</td>\n",
              "      <td>What would happen if the Indian government sto...</td>\n",
              "      <td>0</td>\n",
              "    </tr>\n",
              "    <tr>\n",
              "      <th>2</th>\n",
              "      <td>2</td>\n",
              "      <td>5</td>\n",
              "      <td>6</td>\n",
              "      <td>How can I increase the speed of my internet co...</td>\n",
              "      <td>How can Internet speed be increased by hacking...</td>\n",
              "      <td>0</td>\n",
              "    </tr>\n",
              "    <tr>\n",
              "      <th>3</th>\n",
              "      <td>3</td>\n",
              "      <td>7</td>\n",
              "      <td>8</td>\n",
              "      <td>Why am I mentally very lonely? How can I solve...</td>\n",
              "      <td>Find the remainder when [math]23^{24}[/math] i...</td>\n",
              "      <td>0</td>\n",
              "    </tr>\n",
              "    <tr>\n",
              "      <th>4</th>\n",
              "      <td>4</td>\n",
              "      <td>9</td>\n",
              "      <td>10</td>\n",
              "      <td>Which one dissolve in water quikly sugar, salt...</td>\n",
              "      <td>Which fish would survive in salt water?</td>\n",
              "      <td>0</td>\n",
              "    </tr>\n",
              "  </tbody>\n",
              "</table>\n",
              "</div>"
            ],
            "text/plain": [
              "   id  qid1  ...                                          question2 is_duplicate\n",
              "0   0     1  ...  What is the step by step guide to invest in sh...            0\n",
              "1   1     3  ...  What would happen if the Indian government sto...            0\n",
              "2   2     5  ...  How can Internet speed be increased by hacking...            0\n",
              "3   3     7  ...  Find the remainder when [math]23^{24}[/math] i...            0\n",
              "4   4     9  ...            Which fish would survive in salt water?            0\n",
              "\n",
              "[5 rows x 6 columns]"
            ]
          },
          "metadata": {
            "tags": []
          },
          "execution_count": 17
        }
      ]
    },
    {
      "cell_type": "markdown",
      "metadata": {
        "id": "XiRfFSF9ZgzP",
        "colab_type": "text"
      },
      "source": [
        "#EDA\n"
      ]
    },
    {
      "cell_type": "code",
      "metadata": {
        "id": "rc1PS5OH8OSr",
        "colab_type": "code",
        "outputId": "7ee6cb24-ca5e-4559-fba8-2170b78de9b7",
        "colab": {
          "base_uri": "https://localhost:8080/",
          "height": 238
        }
      },
      "source": [
        "df.info()\n"
      ],
      "execution_count": 18,
      "outputs": [
        {
          "output_type": "stream",
          "text": [
            "<class 'pandas.core.frame.DataFrame'>\n",
            "RangeIndex: 404290 entries, 0 to 404289\n",
            "Data columns (total 6 columns):\n",
            " #   Column        Non-Null Count   Dtype \n",
            "---  ------        --------------   ----- \n",
            " 0   id            404290 non-null  int64 \n",
            " 1   qid1          404290 non-null  int64 \n",
            " 2   qid2          404290 non-null  int64 \n",
            " 3   question1     404289 non-null  object\n",
            " 4   question2     404288 non-null  object\n",
            " 5   is_duplicate  404290 non-null  int64 \n",
            "dtypes: int64(4), object(2)\n",
            "memory usage: 18.5+ MB\n"
          ],
          "name": "stdout"
        }
      ]
    },
    {
      "cell_type": "markdown",
      "metadata": {
        "id": "HHHTGTzws5Ww",
        "colab_type": "text"
      },
      "source": [
        "We are given a minimal number of data fields here, consisting of:\n",
        "\n",
        "- id:  Looks like a simple rowID\n",
        "- qid{1, 2}:  The unique ID of each question in the pair\n",
        "- question{1, 2}:  The actual textual contents of the questions.\n",
        "- is_duplicate:  The label that we are trying to predict - whether the two questions are duplicates of each other."
      ]
    },
    {
      "cell_type": "markdown",
      "metadata": {
        "id": "uruV7od6WRyN",
        "colab_type": "text"
      },
      "source": [
        "##Distribution of data points among output classes"
      ]
    },
    {
      "cell_type": "code",
      "metadata": {
        "id": "P9VJZ_5dZkx-",
        "colab_type": "code",
        "outputId": "269a5b07-cb71-4001-e153-f26ca7db49af",
        "colab": {
          "base_uri": "https://localhost:8080/",
          "height": 294
        }
      },
      "source": [
        "df.groupby(\"is_duplicate\")['id'].count().plot.bar()"
      ],
      "execution_count": 19,
      "outputs": [
        {
          "output_type": "execute_result",
          "data": {
            "text/plain": [
              "<matplotlib.axes._subplots.AxesSubplot at 0x7f60de3e07f0>"
            ]
          },
          "metadata": {
            "tags": []
          },
          "execution_count": 19
        },
        {
          "output_type": "display_data",
          "data": {
            "image/png": "[encoded data removed]",
            "text/plain": [
              "<Figure size 432x288 with 1 Axes>"
            ]
          },
          "metadata": {
            "tags": [],
            "needs_background": "light"
          }
        }
      ]
    },
    {
      "cell_type": "code",
      "metadata": {
        "id": "APw86jf9Wnqx",
        "colab_type": "code",
        "outputId": "eec7a1a1-30be-4ebf-d6f4-220467d6d071",
        "colab": {
          "base_uri": "https://localhost:8080/",
          "height": 51
        }
      },
      "source": [
        "print(\"Percentage Question pairs that are not duplicates is\", round(df[df['is_duplicate']==0].size/df.size *100  ,2))\n",
        "print(\"Percentage Question pairs that are duplicates is\", round(df[df['is_duplicate']==1].size/df.size *100  ,2))"
      ],
      "execution_count": 20,
      "outputs": [
        {
          "output_type": "stream",
          "text": [
            "Percentage Question pairs that are not duplicates is 63.08\n",
            "Percentage Question pairs that are duplicates is 36.92\n"
          ],
          "name": "stdout"
        }
      ]
    },
    {
      "cell_type": "code",
      "metadata": {
        "id": "dJjxYDB1X3lZ",
        "colab_type": "code",
        "outputId": "08c74b8c-bd58-4f32-eb5a-8e4f62a475f0",
        "colab": {
          "base_uri": "https://localhost:8080/",
          "height": 68
        }
      },
      "source": [
        "qids= pd.Series(df['qid1'].tolist() + df['qid2'].tolist())\n",
        "unique_ids= len(np.unique(qids))\n",
        "qs_morethan_onetime = np.sum(qids.value_counts() > 1)\n",
        "print(\"Number of unique questions is \", unique_ids)\n",
        "print(\"Number of unique questions that appear more than ones is \",np.sum(qids.value_counts()>1),\" (\", (np.sum(qids.value_counts()>1)) /(unique_ids) *100 ,\")\")\n",
        "print(\"Number of unique questions that appear more than ones is \",np.max(qids.value_counts()))\n",
        "\n",
        "q_values = qids.value_counts()\n",
        "\n",
        "q_values= qids.values\n",
        "\n"
      ],
      "execution_count": 21,
      "outputs": [
        {
          "output_type": "stream",
          "text": [
            "Number of unique questions is  537933\n",
            "Number of unique questions that appear more than ones is  111780  ( 20.77953945937505 )\n",
            "Number of unique questions that appear more than ones is  157\n"
          ],
          "name": "stdout"
        }
      ]
    },
    {
      "cell_type": "code",
      "metadata": {
        "id": "5es3x23DYPTe",
        "colab_type": "code",
        "colab": {
          "base_uri": "https://localhost:8080/",
          "height": 391
        },
        "outputId": "4f2a610a-15e8-4224-9dd7-62a78f9c1e1f"
      },
      "source": [
        "x = [\"unique_questions\" , \"Repeated Questions\"]\n",
        "y =  [unique_ids , qs_morethan_onetime]\n",
        "\n",
        "plt.figure(figsize=(10, 6))\n",
        "plt.title (\"Plot representing unique and repeated questions  \")\n",
        "sns.barplot(x,y)\n",
        "plt.show()"
      ],
      "execution_count": 22,
      "outputs": [
        {
          "output_type": "display_data",
          "data": {
            "image/png": "[encoded data removed]",
            "text/plain": [
              "<Figure size 720x432 with 1 Axes>"
            ]
          },
          "metadata": {
            "tags": [],
            "needs_background": "light"
          }
        }
      ]
    },
    {
      "cell_type": "code",
      "metadata": {
        "id": "9LjEmlDpcOPT",
        "colab_type": "code",
        "outputId": "23841f4f-aa5c-497d-f6c8-894e23355d74",
        "colab": {
          "base_uri": "https://localhost:8080/",
          "height": 34
        }
      },
      "source": [
        "#checking whether there are any repeated pair of questions\n",
        "\n",
        "pair_duplicates = df[['qid1','qid2','is_duplicate']].groupby(['qid1','qid2']).count().reset_index()\n",
        "\n",
        "print (\"Number of duplicate questions\",(pair_duplicates).shape[0] - df.shape[0])"
      ],
      "execution_count": 23,
      "outputs": [
        {
          "output_type": "stream",
          "text": [
            "Number of duplicate questions 0\n"
          ],
          "name": "stdout"
        }
      ]
    },
    {
      "cell_type": "code",
      "metadata": {
        "id": "K-lELbWRcRd2",
        "colab_type": "code",
        "colab": {
          "base_uri": "https://localhost:8080/",
          "height": 458
        },
        "outputId": "6788d91f-0864-46ae-b267-95e2a10e07e5"
      },
      "source": [
        "#plotting a figure for the freqeuncy of different questions\n",
        "plt.figure(figsize(15,7))\n",
        "plt.hist( qids.value_counts(),bins=160)\n",
        "plt.yscale('log',  )\n",
        "plt.title('Log-Histogram of question appearance counts')\n",
        "\n",
        "plt.xlabel('Number of occurences of question')\n",
        "\n",
        "plt.ylabel('Number of questions')\n",
        "plt.show()\n",
        "\n"
      ],
      "execution_count": 24,
      "outputs": [
        {
          "output_type": "display_data",
          "data": {
            "image/png": "[encoded data removed]",
            "text/plain": [
              "<Figure size 1080x504 with 1 Axes>"
            ]
          },
          "metadata": {
            "tags": [],
            "needs_background": "light"
          }
        }
      ]
    },
    {
      "cell_type": "code",
      "metadata": {
        "id": "XbJ0elZJBv3y",
        "colab_type": "code",
        "outputId": "6bd103e2-24af-4ae5-f138-d5f5570ce55a",
        "colab": {
          "base_uri": "https://localhost:8080/",
          "height": 142
        }
      },
      "source": [
        "#dealing with null values\n",
        "df[df.isnull().any(1)]"
      ],
      "execution_count": 25,
      "outputs": [
        {
          "output_type": "execute_result",
          "data": {
            "text/html": [
              "<div>\n",
              "<style scoped>\n",
              "    .dataframe tbody tr th:only-of-type {\n",
              "        vertical-align: middle;\n",
              "    }\n",
              "\n",
              "    .dataframe tbody tr th {\n",
              "        vertical-align: top;\n",
              "    }\n",
              "\n",
              "    .dataframe thead th {\n",
              "        text-align: right;\n",
              "    }\n",
              "</style>\n",
              "<table border=\"1\" class=\"dataframe\">\n",
              "  <thead>\n",
              "    <tr style=\"text-align: right;\">\n",
              "      <th></th>\n",
              "      <th>id</th>\n",
              "      <th>qid1</th>\n",
              "      <th>qid2</th>\n",
              "      <th>question1</th>\n",
              "      <th>question2</th>\n",
              "      <th>is_duplicate</th>\n",
              "    </tr>\n",
              "  </thead>\n",
              "  <tbody>\n",
              "    <tr>\n",
              "      <th>105780</th>\n",
              "      <td>105780</td>\n",
              "      <td>174363</td>\n",
              "      <td>174364</td>\n",
              "      <td>How can I develop android app?</td>\n",
              "      <td>NaN</td>\n",
              "      <td>0</td>\n",
              "    </tr>\n",
              "    <tr>\n",
              "      <th>201841</th>\n",
              "      <td>201841</td>\n",
              "      <td>303951</td>\n",
              "      <td>174364</td>\n",
              "      <td>How can I create an Android app?</td>\n",
              "      <td>NaN</td>\n",
              "      <td>0</td>\n",
              "    </tr>\n",
              "    <tr>\n",
              "      <th>363362</th>\n",
              "      <td>363362</td>\n",
              "      <td>493340</td>\n",
              "      <td>493341</td>\n",
              "      <td>NaN</td>\n",
              "      <td>My Chinese name is Haichao Yu. What English na...</td>\n",
              "      <td>0</td>\n",
              "    </tr>\n",
              "  </tbody>\n",
              "</table>\n",
              "</div>"
            ],
            "text/plain": [
              "            id  ...  is_duplicate\n",
              "105780  105780  ...             0\n",
              "201841  201841  ...             0\n",
              "363362  363362  ...             0\n",
              "\n",
              "[3 rows x 6 columns]"
            ]
          },
          "metadata": {
            "tags": []
          },
          "execution_count": 25
        }
      ]
    },
    {
      "cell_type": "code",
      "metadata": {
        "id": "freR94FRDwpi",
        "colab_type": "code",
        "outputId": "c7da6044-877a-4fcc-d5dd-8e77ef737350",
        "colab": {
          "base_uri": "https://localhost:8080/",
          "height": 49
        }
      },
      "source": [
        "#filling an empty space inplace of Null values\n",
        "df = df.fillna('')\n",
        "df[df.isnull().any(1)]\n"
      ],
      "execution_count": 26,
      "outputs": [
        {
          "output_type": "execute_result",
          "data": {
            "text/html": [
              "<div>\n",
              "<style scoped>\n",
              "    .dataframe tbody tr th:only-of-type {\n",
              "        vertical-align: middle;\n",
              "    }\n",
              "\n",
              "    .dataframe tbody tr th {\n",
              "        vertical-align: top;\n",
              "    }\n",
              "\n",
              "    .dataframe thead th {\n",
              "        text-align: right;\n",
              "    }\n",
              "</style>\n",
              "<table border=\"1\" class=\"dataframe\">\n",
              "  <thead>\n",
              "    <tr style=\"text-align: right;\">\n",
              "      <th></th>\n",
              "      <th>id</th>\n",
              "      <th>qid1</th>\n",
              "      <th>qid2</th>\n",
              "      <th>question1</th>\n",
              "      <th>question2</th>\n",
              "      <th>is_duplicate</th>\n",
              "    </tr>\n",
              "  </thead>\n",
              "  <tbody>\n",
              "  </tbody>\n",
              "</table>\n",
              "</div>"
            ],
            "text/plain": [
              "Empty DataFrame\n",
              "Columns: [id, qid1, qid2, question1, question2, is_duplicate]\n",
              "Index: []"
            ]
          },
          "metadata": {
            "tags": []
          },
          "execution_count": 26
        }
      ]
    },
    {
      "cell_type": "markdown",
      "metadata": {
        "id": "YA9UL2ztBjt0",
        "colab_type": "text"
      },
      "source": [
        "<ul>\n",
        "<li>Now we have zero rows with null values</li>\n",
        "</ul>\n"
      ]
    },
    {
      "cell_type": "markdown",
      "metadata": {
        "id": "2XyllDgCB3JH",
        "colab_type": "text"
      },
      "source": [
        "##Basic Feature Extraction (before cleaning)"
      ]
    },
    {
      "cell_type": "markdown",
      "metadata": {
        "id": "RRzvPYzGs5Xu",
        "colab_type": "text"
      },
      "source": [
        "Let us now construct a few features like:\n",
        " - ____freq_qid1____ = Frequency of qid1's\n",
        " - ____freq_qid2____ = Frequency of qid2's \n",
        " - ____q1len____ = Length of q1\n",
        " - ____q2len____ = Length of q2\n",
        " - ____q1_n_words____ = Number of words in Question 1\n",
        " - ____q2_n_words____ = Number of words in Question 2\n",
        " - ____word_Common____ = (Number of common unique words in Question 1 and Question 2)\n",
        " - ____word_Total____ =(Total num of words in Question 1 + Total num of words in Question 2)\n",
        " - ____word_share____ = (word_common)/(word_Total)\n",
        " - ____freq_q1+freq_q2____ = sum total of frequency of qid1 and qid2 \n",
        " - ____freq_q1-freq_q2____ = absolute difference of frequency of qid1 and qid2 "
      ]
    },
    {
      "cell_type": "code",
      "metadata": {
        "id": "G6ObInvjCGYi",
        "colab_type": "code",
        "outputId": "ceb3267b-8eda-4089-a710-611ebff65933",
        "colab": {
          "base_uri": "https://localhost:8080/",
          "height": 649
        }
      },
      "source": [
        "#contructing the features\n",
        "df['freq_qid1'] = df.groupby('qid1')['qid1'].transform('count')\n",
        "df['freq_qid2'] = df.groupby('qid2')['qid2'].transform('count')\n",
        "df['q1len'] = df['question1'].str.len() \n",
        "df['q2len'] = df['question2'].str.len()\n",
        "df['q1_n_words'] = df['question1'].apply(lambda row : len(str(row).split(' ')))\n",
        "df['q2_n_words'] = df['question2'].apply(lambda row : len(str(row).split(' ')))\n",
        "\n",
        "def normalized_word_Common(row):\n",
        "        w1 = set(map(lambda word: word.lower().strip(), str(row['question1']).split(\" \")))\n",
        "        w2 = set(map(lambda word: word.lower().strip(), str(row['question2']).split(\" \")))    \n",
        "        return 1.0 * len(w1 & w2)\n",
        "\n",
        "df['word_Common'] = df.apply(normalized_word_Common, axis=1)\n",
        "\n",
        "def normalized_word_Total(row):\n",
        "        w1 = set(map(lambda word: word.lower().strip(), str(row['question1']).split(\" \")))\n",
        "        w2 = set(map(lambda word: word.lower().strip(), str(row['question2']).split(\" \")))    \n",
        "        return 1.0 * (len(w1) + len(w2))\n",
        "df['word_Total'] = df.apply(normalized_word_Total, axis=1)\n",
        "\n",
        "def normalized_word_share(row):\n",
        "        w1 = set(map(lambda word: word.lower().strip(), str(row['question1']).split(\" \")))\n",
        "        w2 = set(map(lambda word: word.lower().strip(), str(row['question2']).split(\" \")))    \n",
        "        return 1.0 * len(w1 & w2)/(len(w1) + len(w2))\n",
        "df['word_share'] = df.apply(normalized_word_share, axis=1)\n",
        "\n",
        "df['freq_q1+q2'] = df['freq_qid1']+df['freq_qid2']\n",
        "df['freq_q1-q2'] = abs(df['freq_qid1']-df['freq_qid2'])\n",
        "\n",
        "df.to_csv(\"df_fe_without_preprocessing_train.csv\", index=False)\n",
        "\n",
        "df.head()\n",
        "\n",
        "\n",
        "\n",
        "\n"
      ],
      "execution_count": 27,
      "outputs": [
        {
          "output_type": "execute_result",
          "data": {
            "text/html": [
              "<div>\n",
              "<style scoped>\n",
              "    .dataframe tbody tr th:only-of-type {\n",
              "        vertical-align: middle;\n",
              "    }\n",
              "\n",
              "    .dataframe tbody tr th {\n",
              "        vertical-align: top;\n",
              "    }\n",
              "\n",
              "    .dataframe thead th {\n",
              "        text-align: right;\n",
              "    }\n",
              "</style>\n",
              "<table border=\"1\" class=\"dataframe\">\n",
              "  <thead>\n",
              "    <tr style=\"text-align: right;\">\n",
              "      <th></th>\n",
              "      <th>id</th>\n",
              "      <th>qid1</th>\n",
              "      <th>qid2</th>\n",
              "      <th>question1</th>\n",
              "      <th>question2</th>\n",
              "      <th>is_duplicate</th>\n",
              "      <th>freq_qid1</th>\n",
              "      <th>freq_qid2</th>\n",
              "      <th>q1len</th>\n",
              "      <th>q2len</th>\n",
              "      <th>q1_n_words</th>\n",
              "      <th>q2_n_words</th>\n",
              "      <th>word_Common</th>\n",
              "      <th>word_Total</th>\n",
              "      <th>word_share</th>\n",
              "      <th>freq_q1+q2</th>\n",
              "      <th>freq_q1-q2</th>\n",
              "    </tr>\n",
              "  </thead>\n",
              "  <tbody>\n",
              "    <tr>\n",
              "      <th>0</th>\n",
              "      <td>0</td>\n",
              "      <td>1</td>\n",
              "      <td>2</td>\n",
              "      <td>What is the step by step guide to invest in sh...</td>\n",
              "      <td>What is the step by step guide to invest in sh...</td>\n",
              "      <td>0</td>\n",
              "      <td>1</td>\n",
              "      <td>1</td>\n",
              "      <td>66</td>\n",
              "      <td>57</td>\n",
              "      <td>14</td>\n",
              "      <td>12</td>\n",
              "      <td>10.0</td>\n",
              "      <td>23.0</td>\n",
              "      <td>0.434783</td>\n",
              "      <td>2</td>\n",
              "      <td>0</td>\n",
              "    </tr>\n",
              "    <tr>\n",
              "      <th>1</th>\n",
              "      <td>1</td>\n",
              "      <td>3</td>\n",
              "      <td>4</td>\n",
              "      <td>What is the story of Kohinoor (Koh-i-Noor) Dia...</td>\n",
              "      <td>What would happen if the Indian government sto...</td>\n",
              "      <td>0</td>\n",
              "      <td>4</td>\n",
              "      <td>1</td>\n",
              "      <td>51</td>\n",
              "      <td>88</td>\n",
              "      <td>8</td>\n",
              "      <td>13</td>\n",
              "      <td>4.0</td>\n",
              "      <td>20.0</td>\n",
              "      <td>0.200000</td>\n",
              "      <td>5</td>\n",
              "      <td>3</td>\n",
              "    </tr>\n",
              "    <tr>\n",
              "      <th>2</th>\n",
              "      <td>2</td>\n",
              "      <td>5</td>\n",
              "      <td>6</td>\n",
              "      <td>How can I increase the speed of my internet co...</td>\n",
              "      <td>How can Internet speed be increased by hacking...</td>\n",
              "      <td>0</td>\n",
              "      <td>1</td>\n",
              "      <td>1</td>\n",
              "      <td>73</td>\n",
              "      <td>59</td>\n",
              "      <td>14</td>\n",
              "      <td>10</td>\n",
              "      <td>4.0</td>\n",
              "      <td>24.0</td>\n",
              "      <td>0.166667</td>\n",
              "      <td>2</td>\n",
              "      <td>0</td>\n",
              "    </tr>\n",
              "    <tr>\n",
              "      <th>3</th>\n",
              "      <td>3</td>\n",
              "      <td>7</td>\n",
              "      <td>8</td>\n",
              "      <td>Why am I mentally very lonely? How can I solve...</td>\n",
              "      <td>Find the remainder when [math]23^{24}[/math] i...</td>\n",
              "      <td>0</td>\n",
              "      <td>1</td>\n",
              "      <td>1</td>\n",
              "      <td>50</td>\n",
              "      <td>65</td>\n",
              "      <td>11</td>\n",
              "      <td>9</td>\n",
              "      <td>0.0</td>\n",
              "      <td>19.0</td>\n",
              "      <td>0.000000</td>\n",
              "      <td>2</td>\n",
              "      <td>0</td>\n",
              "    </tr>\n",
              "    <tr>\n",
              "      <th>4</th>\n",
              "      <td>4</td>\n",
              "      <td>9</td>\n",
              "      <td>10</td>\n",
              "      <td>Which one dissolve in water quikly sugar, salt...</td>\n",
              "      <td>Which fish would survive in salt water?</td>\n",
              "      <td>0</td>\n",
              "      <td>3</td>\n",
              "      <td>1</td>\n",
              "      <td>76</td>\n",
              "      <td>39</td>\n",
              "      <td>13</td>\n",
              "      <td>7</td>\n",
              "      <td>2.0</td>\n",
              "      <td>20.0</td>\n",
              "      <td>0.100000</td>\n",
              "      <td>4</td>\n",
              "      <td>2</td>\n",
              "    </tr>\n",
              "  </tbody>\n",
              "</table>\n",
              "</div>"
            ],
            "text/plain": [
              "   id  qid1  qid2  ... word_share freq_q1+q2  freq_q1-q2\n",
              "0   0     1     2  ...   0.434783          2           0\n",
              "1   1     3     4  ...   0.200000          5           3\n",
              "2   2     5     6  ...   0.166667          2           0\n",
              "3   3     7     8  ...   0.000000          2           0\n",
              "4   4     9    10  ...   0.100000          4           2\n",
              "\n",
              "[5 rows x 17 columns]"
            ]
          },
          "metadata": {
            "tags": []
          },
          "execution_count": 27
        }
      ]
    },
    {
      "cell_type": "markdown",
      "metadata": {
        "id": "nSQWvxa3Naox",
        "colab_type": "text"
      },
      "source": [
        "<ul><li>Here are some questions have only one single words.</li>\n",
        "</ul>"
      ]
    },
    {
      "cell_type": "code",
      "metadata": {
        "id": "0aSBAd_wCOnD",
        "colab_type": "code",
        "outputId": "a9cbcfec-0b8a-4a44-ccce-a008588f5c02",
        "colab": {
          "base_uri": "https://localhost:8080/",
          "height": 85
        }
      },
      "source": [
        "print (\"Minimum length of the questions in question1 : \" , min(df['q1_n_words']))\n",
        "\n",
        "print (\"Minimum length of the questions in question2 : \" , min(df['q2_n_words']))\n",
        "\n",
        "print (\"Number of Questions with minimum length [question1] :\", df[df['q1_n_words']== 1].shape[0])\n",
        "print (\"Number of Questions with minimum length [question2] :\", df[df['q2_n_words']== 1].shape[0])"
      ],
      "execution_count": 28,
      "outputs": [
        {
          "output_type": "stream",
          "text": [
            "Minimum length of the questions in question1 :  1\n",
            "Minimum length of the questions in question2 :  1\n",
            "Number of Questions with minimum length [question1] : 67\n",
            "Number of Questions with minimum length [question2] : 24\n"
          ],
          "name": "stdout"
        }
      ]
    },
    {
      "cell_type": "code",
      "metadata": {
        "id": "rTNzw6wyCTdA",
        "colab_type": "code",
        "colab": {
          "base_uri": "https://localhost:8080/",
          "height": 498
        },
        "outputId": "46a974b0-cad2-4288-9224-516d8bf0f223"
      },
      "source": [
        "#plot for feature word share\n",
        "plt.figure(figsize=(12, 8))\n",
        "\n",
        "plt.subplot(1,2,1)\n",
        "sns.violinplot(x = 'is_duplicate', y = 'word_share', data = df[0:])\n",
        "\n",
        "plt.subplot(1,2,2)\n",
        "sns.distplot(df[df['is_duplicate'] == 1.0]['word_share'][0:] , label = \"1\", color = 'red')\n",
        "sns.distplot(df[df['is_duplicate'] == 0.0]['word_share'][0:] , label = \"0\" , color = 'blue' )\n",
        "plt.show()"
      ],
      "execution_count": 29,
      "outputs": [
        {
          "output_type": "display_data",
          "data": {
            "image/png": "[encoded data removed]",
            "text/plain": [
              "<Figure size 864x576 with 2 Axes>"
            ]
          },
          "metadata": {
            "tags": [],
            "needs_background": "light"
          }
        }
      ]
    },
    {
      "cell_type": "markdown",
      "metadata": {
        "id": "RcwMI4xps5YJ",
        "colab_type": "text"
      },
      "source": [
        "- The distributions for normalized word_share have some overlap on the far right-hand side, i.e., there are quite a lot of questions with high word similarity\n",
        "- The average word share and Common no. of words of qid1 and qid2 is more when they are duplicate(Similar)"
      ]
    },
    {
      "cell_type": "code",
      "metadata": {
        "id": "0WTyY88dI63D",
        "colab_type": "code",
        "colab": {
          "base_uri": "https://localhost:8080/",
          "height": 498
        },
        "outputId": "0424065c-18e7-4444-d251-bffe607ceada"
      },
      "source": [
        "#plot for feature common word\n",
        "plt.figure(figsize=(12, 8))\n",
        "\n",
        "plt.subplot(1,2,1)\n",
        "sns.violinplot(x = 'is_duplicate', y = 'word_Common', data = df[0:])\n",
        "\n",
        "plt.subplot(1,2,2)\n",
        "sns.distplot(df[df['is_duplicate'] == 1.0]['word_Common'][0:] , label = \"1\", color = 'red')\n",
        "sns.distplot(df[df['is_duplicate'] == 0.0]['word_Common'][0:] , label = \"0\" , color = 'blue' )\n",
        "plt.show()"
      ],
      "execution_count": 30,
      "outputs": [
        {
          "output_type": "display_data",
          "data": {
            "image/png": "[encoded data removed]",
            "text/plain": [
              "<Figure size 864x576 with 2 Axes>"
            ]
          },
          "metadata": {
            "tags": [],
            "needs_background": "light"
          }
        }
      ]
    },
    {
      "cell_type": "markdown",
      "metadata": {
        "id": "9Ej1ouEVs5YR",
        "colab_type": "text"
      },
      "source": [
        "<p> The distributions of the word_Common feature in similar and non-similar questions are highly overlapping </p>"
      ]
    }
  ]
}